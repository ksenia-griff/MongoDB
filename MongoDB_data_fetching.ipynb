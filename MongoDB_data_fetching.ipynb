{
 "cells": [
  {
   "cell_type": "code",
   "execution_count": 4,
   "metadata": {
    "collapsed": true
   },
   "outputs": [],
   "source": [
    "import pymongo\n"
   ]
  },
  {
   "cell_type": "code",
   "execution_count": 5,
   "metadata": {
    "collapsed": true
   },
   "outputs": [],
   "source": [
    "from pymongo import MongoClient\n",
    "client = MongoClient()"
   ]
  },
  {
   "cell_type": "code",
   "execution_count": 6,
   "metadata": {
    "collapsed": true
   },
   "outputs": [],
   "source": [
    "client = MongoClient('localhost', 27017)"
   ]
  },
  {
   "cell_type": "code",
   "execution_count": 7,
   "metadata": {
    "collapsed": true
   },
   "outputs": [],
   "source": [
    "db = client.test_database"
   ]
  },
  {
   "cell_type": "code",
   "execution_count": 8,
   "metadata": {
    "collapsed": true
   },
   "outputs": [],
   "source": [
    "collection = db.test_collection"
   ]
  },
  {
   "cell_type": "code",
   "execution_count": 10,
   "metadata": {},
   "outputs": [],
   "source": [
    "import datetime\n",
    "post = {\"author\": \"Mike\",\n",
    "        \"text\": \"My first blog post!\",\n",
    "        \"tags\": [\"mongodb\", \"python\", \"pymongo\"],\n",
    "        \"date\": datetime.datetime.utcnow()}"
   ]
  },
  {
   "cell_type": "code",
   "execution_count": 11,
   "metadata": {},
   "outputs": [
    {
     "data": {
      "text/plain": [
       "ObjectId('598f61e488d1a0f480dddb0d')"
      ]
     },
     "execution_count": 11,
     "metadata": {},
     "output_type": "execute_result"
    }
   ],
   "source": [
    "posts = db.posts\n",
    "post_id = posts.insert_one(post).inserted_id\n",
    "post_id"
   ]
  },
  {
   "cell_type": "code",
   "execution_count": 13,
   "metadata": {},
   "outputs": [
    {
     "data": {
      "text/plain": [
       "['posts']"
      ]
     },
     "execution_count": 13,
     "metadata": {},
     "output_type": "execute_result"
    }
   ],
   "source": [
    "db.collection_names(include_system_collections=False)"
   ]
  },
  {
   "cell_type": "code",
   "execution_count": 14,
   "metadata": {},
   "outputs": [
    {
     "name": "stdout",
     "output_type": "stream",
     "text": [
      "{'_id': ObjectId('598f61e488d1a0f480dddb0d'),\n",
      " 'author': 'Mike',\n",
      " 'date': datetime.datetime(2017, 8, 12, 20, 14, 48, 462000),\n",
      " 'tags': ['mongodb', 'python', 'pymongo'],\n",
      " 'text': 'My first blog post!'}\n"
     ]
    }
   ],
   "source": [
    "import pprint\n",
    "pprint.pprint(posts.find_one())"
   ]
  },
  {
   "cell_type": "code",
   "execution_count": 15,
   "metadata": {
    "collapsed": true
   },
   "outputs": [],
   "source": [
    "posts.find_one({\"author\": \"Eliot\"})"
   ]
  },
  {
   "cell_type": "code",
   "execution_count": 16,
   "metadata": {},
   "outputs": [
    {
     "data": {
      "text/plain": [
       "Collection(Database(MongoClient(host=['localhost:27017'], document_class=dict, tz_aware=False, connect=True), 'test_database'), 'posts')"
      ]
     },
     "execution_count": 16,
     "metadata": {},
     "output_type": "execute_result"
    }
   ],
   "source": [
    "posts"
   ]
  },
  {
   "cell_type": "code",
   "execution_count": 18,
   "metadata": {},
   "outputs": [
    {
     "data": {
      "text/plain": [
       "ObjectId('598f61e488d1a0f480dddb0d')"
      ]
     },
     "execution_count": 18,
     "metadata": {},
     "output_type": "execute_result"
    }
   ],
   "source": [
    "post_id"
   ]
  },
  {
   "cell_type": "code",
   "execution_count": 19,
   "metadata": {},
   "outputs": [
    {
     "name": "stdout",
     "output_type": "stream",
     "text": [
      "{'_id': ObjectId('598f61e488d1a0f480dddb0d'),\n",
      " 'author': 'Mike',\n",
      " 'date': datetime.datetime(2017, 8, 12, 20, 14, 48, 462000),\n",
      " 'tags': ['mongodb', 'python', 'pymongo'],\n",
      " 'text': 'My first blog post!'}\n"
     ]
    }
   ],
   "source": [
    "pprint.pprint(posts.find_one({\"_id\": post_id}))"
   ]
  },
  {
   "cell_type": "code",
   "execution_count": 20,
   "metadata": {
    "collapsed": true
   },
   "outputs": [],
   "source": [
    "#post_id is not the same as string representtion\n",
    "post_id_as_str = str(post_id)\n",
    "posts.find_one({\"_id\": post_id_as_str})"
   ]
  },
  {
   "cell_type": "code",
   "execution_count": 21,
   "metadata": {
    "collapsed": true
   },
   "outputs": [],
   "source": [
    "from bson.objectid import ObjectId\n",
    "\n",
    "# The web framework gets post_id from the URL and passes it as a string\n",
    "def get(post_id):\n",
    "    # Convert from string to ObjectId:\n",
    "    document = client.db.collection.find_one({'_id': ObjectId(post_id)})"
   ]
  },
  {
   "cell_type": "code",
   "execution_count": 22,
   "metadata": {},
   "outputs": [
    {
     "data": {
      "text/plain": [
       "[ObjectId('598f713488d1a0f480dddb0e'), ObjectId('598f713488d1a0f480dddb0f')]"
      ]
     },
     "execution_count": 22,
     "metadata": {},
     "output_type": "execute_result"
    }
   ],
   "source": [
    "new_posts = [{\"author\": \"Mike\",\n",
    "               \"text\": \"Another post!\",\n",
    "              \"tags\": [\"bulk\", \"insert\"],\n",
    "               \"date\": datetime.datetime(2009, 11, 12, 11, 14)},\n",
    "             {\"author\": \"Eliot\",\n",
    "              \"title\": \"MongoDB is fun\",\n",
    "              \"text\": \"and pretty easy too!\",\n",
    "               \"date\": datetime.datetime(2009, 11, 10, 10, 45)}]\n",
    "result = posts.insert_many(new_posts)\n",
    "result.inserted_ids\n"
   ]
  },
  {
   "cell_type": "code",
   "execution_count": 26,
   "metadata": {},
   "outputs": [
    {
     "name": "stdout",
     "output_type": "stream",
     "text": [
      "{'_id': ObjectId('598f61e488d1a0f480dddb0d'),\n",
      " 'author': 'Mike',\n",
      " 'date': datetime.datetime(2017, 8, 12, 20, 14, 48, 462000),\n",
      " 'tags': ['mongodb', 'python', 'pymongo'],\n",
      " 'text': 'My first blog post!'}\n",
      "{'_id': ObjectId('598f713488d1a0f480dddb0e'),\n",
      " 'author': 'Mike',\n",
      " 'date': datetime.datetime(2009, 11, 12, 11, 14),\n",
      " 'tags': ['bulk', 'insert'],\n",
      " 'text': 'Another post!'}\n",
      "{'_id': ObjectId('598f713488d1a0f480dddb0f'),\n",
      " 'author': 'Eliot',\n",
      " 'date': datetime.datetime(2009, 11, 10, 10, 45),\n",
      " 'text': 'and pretty easy too!',\n",
      " 'title': 'MongoDB is fun'}\n"
     ]
    }
   ],
   "source": [
    "#Find each post\n",
    "for post in posts.find():\n",
    " pprint.pprint(post)\n"
   ]
  },
  {
   "cell_type": "code",
   "execution_count": 27,
   "metadata": {},
   "outputs": [
    {
     "name": "stdout",
     "output_type": "stream",
     "text": [
      "{'_id': ObjectId('598f61e488d1a0f480dddb0d'),\n",
      " 'author': 'Mike',\n",
      " 'date': datetime.datetime(2017, 8, 12, 20, 14, 48, 462000),\n",
      " 'tags': ['mongodb', 'python', 'pymongo'],\n",
      " 'text': 'My first blog post!'}\n",
      "{'_id': ObjectId('598f713488d1a0f480dddb0e'),\n",
      " 'author': 'Mike',\n",
      " 'date': datetime.datetime(2009, 11, 12, 11, 14),\n",
      " 'tags': ['bulk', 'insert'],\n",
      " 'text': 'Another post!'}\n"
     ]
    }
   ],
   "source": [
    "#Find specific object\n",
    "for post in posts.find({\"author\": \"Mike\"}):\n",
    "    pprint.pprint(post)"
   ]
  },
  {
   "cell_type": "code",
   "execution_count": 28,
   "metadata": {},
   "outputs": [
    {
     "data": {
      "text/plain": [
       "3"
      ]
     },
     "execution_count": 28,
     "metadata": {},
     "output_type": "execute_result"
    }
   ],
   "source": [
    "posts.count()"
   ]
  },
  {
   "cell_type": "code",
   "execution_count": 29,
   "metadata": {},
   "outputs": [
    {
     "data": {
      "text/plain": [
       "2"
      ]
     },
     "execution_count": 29,
     "metadata": {},
     "output_type": "execute_result"
    }
   ],
   "source": [
    "posts.find({\"author\": \"Mike\"}).count()"
   ]
  },
  {
   "cell_type": "code",
   "execution_count": 31,
   "metadata": {},
   "outputs": [
    {
     "name": "stdout",
     "output_type": "stream",
     "text": [
      "{'_id': ObjectId('598f713488d1a0f480dddb0f'),\n",
      " 'author': 'Eliot',\n",
      " 'date': datetime.datetime(2009, 11, 10, 10, 45),\n",
      " 'text': 'and pretty easy too!',\n",
      " 'title': 'MongoDB is fun'}\n",
      "{'_id': ObjectId('598f713488d1a0f480dddb0e'),\n",
      " 'author': 'Mike',\n",
      " 'date': datetime.datetime(2009, 11, 12, 11, 14),\n",
      " 'tags': ['bulk', 'insert'],\n",
      " 'text': 'Another post!'}\n"
     ]
    }
   ],
   "source": [
    "d = datetime.datetime(2009, 11, 12, 12)\n",
    "for post in posts.find({\"date\": {\"$lt\": d}}).sort(\"author\"):\n",
    "  pprint.pprint(post)"
   ]
  },
  {
   "cell_type": "code",
   "execution_count": 33,
   "metadata": {},
   "outputs": [
    {
     "data": {
      "text/plain": [
       "['_id_', 'user_id_1']"
      ]
     },
     "execution_count": 33,
     "metadata": {},
     "output_type": "execute_result"
    }
   ],
   "source": [
    " result = db.profiles.create_index([('user_id', pymongo.ASCENDING)],\n",
    "                                  unique=True)\n",
    " sorted(list(db.profiles.index_information()))"
   ]
  },
  {
   "cell_type": "code",
   "execution_count": 34,
   "metadata": {
    "collapsed": true
   },
   "outputs": [],
   "source": [
    "user_profiles = [\n",
    "  {'user_id': 211, 'name': 'Luke'},\n",
    "  {'user_id': 212, 'name': 'Ziltoid'}]\n",
    "result = db.profiles.insert_many(user_profiles)"
   ]
  },
  {
   "cell_type": "code",
   "execution_count": 37,
   "metadata": {
    "collapsed": true
   },
   "outputs": [],
   "source": [
    "#Users collection\n",
    "users = db.users"
   ]
  },
  {
   "cell_type": "code",
   "execution_count": 38,
   "metadata": {},
   "outputs": [
    {
     "data": {
      "text/plain": [
       "['posts', 'profiles']"
      ]
     },
     "execution_count": 38,
     "metadata": {},
     "output_type": "execute_result"
    }
   ],
   "source": [
    "db.collection_names(include_system_collections=False)"
   ]
  },
  {
   "cell_type": "code",
   "execution_count": 42,
   "metadata": {},
   "outputs": [
    {
     "data": {
      "text/plain": [
       "Collection(Database(MongoClient(host=['localhost:27017'], document_class=dict, tz_aware=False, connect=True), 'test_database'), 'profiles')"
      ]
     },
     "execution_count": 42,
     "metadata": {},
     "output_type": "execute_result"
    }
   ],
   "source": [
    "db.profiles\n"
   ]
  },
  {
   "cell_type": "code",
   "execution_count": 100,
   "metadata": {},
   "outputs": [
    {
     "name": "stdout",
     "output_type": "stream",
     "text": [
      "{'_id': ObjectId('598f72fb88d1a0f480dddb10'), 'name': 'Luke', 'user_id': 211}\n",
      "{'_id': ObjectId('598f72fb88d1a0f480dddb11'), 'name': 'Ziltoid', 'user_id': 212}\n",
      "{'_id': ObjectId('598f731588d1a0f480dddb12'), 'name': 'Drew', 'user_id': 213}\n"
     ]
    }
   ],
   "source": [
    "#See the collection Profiles\n",
    "#Find each post\n",
    "for db.profile in db.profiles.find():\n",
    " pprint.pprint(db.profile)\n"
   ]
  },
  {
   "cell_type": "code",
   "execution_count": 101,
   "metadata": {},
   "outputs": [
    {
     "data": {
      "text/plain": [
       "Collection(Database(MongoClient(host=['localhost:27017'], document_class=dict, tz_aware=False, connect=True), 'test_database'), 'users')"
      ]
     },
     "execution_count": 101,
     "metadata": {},
     "output_type": "execute_result"
    }
   ],
   "source": [
    "db.users\n"
   ]
  },
  {
   "cell_type": "code",
   "execution_count": 58,
   "metadata": {
    "collapsed": true
   },
   "outputs": [],
   "source": [
    "#See the collection Users\n",
    "#Find each post\n",
    "for db.user in db.users.find():\n",
    " pprint.pprint(db.user)"
   ]
  },
  {
   "cell_type": "code",
   "execution_count": 73,
   "metadata": {},
   "outputs": [
    {
     "data": {
      "text/plain": [
       "{'$match': {'timestamp': {'$gte': datetime.datetime(2016, 11, 11, 0, 0),\n",
       "   '$lte': datetime.datetime(2016, 11, 12, 0, 0)}}}"
      ]
     },
     "execution_count": 73,
     "metadata": {},
     "output_type": "execute_result"
    }
   ],
   "source": [
    "import datetime\n",
    "\n",
    "\n",
    "start = start = datetime.datetime(2016, 11, 11)\n",
    "end = datetime.datetime(2016, 11, 12)\n",
    "{'$match': {'timestamp': {'$gte': start, '$lte': end}}}\n",
    "#db.session.distinct('_id', {'timestamp': {'$gte': start, '$lte': end}})"
   ]
  },
  {
   "cell_type": "code",
   "execution_count": 93,
   "metadata": {},
   "outputs": [],
   "source": [
    "#The user collection is empty. We are adding 2 users to it.\n",
    "new_profile = {\n",
    "  \"_id\": ObjectId(\"45b83bda421238c76f5c1970\"),\n",
    "  \"name\": \"User One\",\n",
    "  \"email\": \"userone@gmail.com\",\n",
    "  \"country\": \"UK\",\n",
    "  \"dob\": datetime.datetime.utcnow()\n",
    "}\n",
    "\n",
    "result1 = db.users.insert_one(new_profile)  # This is fine."
   ]
  },
  {
   "cell_type": "code",
   "execution_count": 188,
   "metadata": {},
   "outputs": [
    {
     "name": "stdout",
     "output_type": "stream",
     "text": [
      "{'_id': ObjectId('45b83bda421238c76f5c1969'),\n",
      " 'country': 'UK',\n",
      " 'dob': '$match',\n",
      " 'email': 'userone@gmail.com',\n",
      " 'name': 'User One'}\n",
      "{'_id': ObjectId('45b83bda421238c76f5c1968'),\n",
      " 'country': 'UK',\n",
      " 'dob': '$match',\n",
      " 'email': 'userone@gmail.com',\n",
      " 'name': 'User One'}\n",
      "{'_id': ObjectId('45b83bda421238c76f5c1970'),\n",
      " 'country': 'UK',\n",
      " 'dob': datetime.datetime(2017, 8, 13, 13, 47, 55, 701000),\n",
      " 'email': 'userone@gmail.com',\n",
      " 'name': 'User One'}\n"
     ]
    }
   ],
   "source": [
    "#Added 2 users. Print\n",
    "#Document can store entries with different id-s but same names.\n",
    "for db.user in db.users.find():\n",
    " pprint.pprint(db.user)"
   ]
  },
  {
   "cell_type": "code",
   "execution_count": 155,
   "metadata": {},
   "outputs": [],
   "source": [
    "new_post = {\n",
    "  \"_id\": ObjectId(\"17c9812acff9ac0bba018cc2\"),\n",
    "  \"user_id\": ObjectId(\"45b83bda421238c76f5c1968\"),\n",
    "  \"date\": datetime.datetime.utcnow(),\n",
    "  \"text\": \"My life story so far\",\n",
    "  \"rating\": \"important\"\n",
    "}\n",
    "result2 = db.posts.insert_one(new_post) "
   ]
  },
  {
   "cell_type": "code",
   "execution_count": 187,
   "metadata": {},
   "outputs": [
    {
     "name": "stdout",
     "output_type": "stream",
     "text": [
      "{'_id': ObjectId('598f61e488d1a0f480dddb0d'),\n",
      " 'author': 'Mike',\n",
      " 'date': datetime.datetime(2017, 8, 12, 20, 14, 48, 462000),\n",
      " 'tags': ['mongodb', 'python', 'pymongo'],\n",
      " 'text': 'My first blog post!'}\n",
      "{'_id': ObjectId('598f713488d1a0f480dddb0e'),\n",
      " 'author': 'Mike',\n",
      " 'date': datetime.datetime(2009, 11, 12, 11, 14),\n",
      " 'tags': ['bulk', 'insert'],\n",
      " 'text': 'Another post!'}\n",
      "{'_id': ObjectId('598f713488d1a0f480dddb0f'),\n",
      " 'author': 'Eliot',\n",
      " 'date': datetime.datetime(2009, 11, 10, 10, 45),\n",
      " 'text': 'and pretty easy too!',\n",
      " 'title': 'MongoDB is fun'}\n",
      "{'_id': ObjectId('598fcbae88d1a0f480dddb15'), 'name': 'Drew', 'user_id': 213}\n",
      "{'_id': ObjectId('598fcd9588d1a0f480dddb16'), 'name': 'Drew', 'user_id': 213}\n",
      "{'_id': ObjectId('17c9812acff9ac0bba018cc1'),\n",
      " 'date': '$match',\n",
      " 'rating': 'important',\n",
      " 'text': 'My life story so far',\n",
      " 'user_id': ObjectId('45b83bda421238c76f5c1968')}\n",
      "{'_id': ObjectId('17c9812acff9ac0bba018cc2'),\n",
      " 'date': datetime.datetime(2017, 8, 13, 17, 46, 19, 905000),\n",
      " 'rating': 'important',\n",
      " 'text': 'My life story so far',\n",
      " 'user_id': ObjectId('45b83bda421238c76f5c1968')}\n"
     ]
    }
   ],
   "source": [
    "for db.post in db.posts.find():\n",
    " pprint.pprint(db.post)"
   ]
  },
  {
   "cell_type": "code",
   "execution_count": 102,
   "metadata": {},
   "outputs": [
    {
     "name": "stdout",
     "output_type": "stream",
     "text": [
      "{'_id': ObjectId('598f72fb88d1a0f480dddb10'), 'name': 'Luke', 'user_id': 211}\n",
      "{'_id': ObjectId('598f72fb88d1a0f480dddb11'), 'name': 'Ziltoid', 'user_id': 212}\n",
      "{'_id': ObjectId('598f731588d1a0f480dddb12'), 'name': 'Drew', 'user_id': 213}\n"
     ]
    }
   ],
   "source": [
    "for db.profile in db.profiles.find():\n",
    " pprint.pprint(db.profile)"
   ]
  },
  {
   "cell_type": "code",
   "execution_count": 220,
   "metadata": {},
   "outputs": [
    {
     "name": "stdout",
     "output_type": "stream",
     "text": [
      "{'_id': ObjectId('17c9812acff9ac0bba018cc1'),\n",
      " 'date': '$match',\n",
      " 'text': 'My life story so far',\n",
      " 'userinfo': {'country': 'UK', 'name': 'User One'}}\n",
      "{'_id': ObjectId('17c9812acff9ac0bba018cc2'),\n",
      " 'date': datetime.datetime(2017, 8, 13, 17, 46, 19, 905000),\n",
      " 'text': 'My life story so far',\n",
      " 'userinfo': {'country': 'UK', 'name': 'User One'}}\n"
     ]
    }
   ],
   "source": [
    "#Example on Aggregation number 1.\n",
    "pipeline = [{'$lookup': \n",
    "                {'from' : 'users',\n",
    "                 'localField' : 'user_id',\n",
    "                 'foreignField' : '_id',\n",
    "                 'as' : 'userinfo'}},\n",
    "             {'$unwind': '$userinfo'},\n",
    "             {'$match':\n",
    "                      { \"rating\": 'important' } },\n",
    "             { \"$project\": {\n",
    "                             \"text\": 1,\n",
    "                             \"date\": 1,\n",
    "                             \"userinfo.name\": 1,\n",
    "                             \"userinfo.country\": 1\n",
    "           }}]\n",
    "\n",
    "for doc in (db.posts.aggregate(pipeline)):\n",
    "    pprint.pprint (doc)"
   ]
  },
  {
   "cell_type": "code",
   "execution_count": 224,
   "metadata": {},
   "outputs": [
    {
     "data": {
      "text/plain": [
       "[ObjectId('498f72fb88d1a0f480dddb10'),\n",
       " ObjectId('498f72fb88d1a0f480dddb11'),\n",
       " ObjectId('498f72fb88d1a0f480dddb12'),\n",
       " ObjectId('498f72fb88d1a0f480dddb13')]"
      ]
     },
     "execution_count": 224,
     "metadata": {},
     "output_type": "execute_result"
    }
   ],
   "source": [
    "#Example on Aggregation number 2.\n",
    "from pymongo import MongoClient\n",
    "db = MongoClient().aggregation_example\n",
    "result = db.things.insert_many([{\"x\": 1, \"tags\": [\"dog\", \"cat\"]},\n",
    "                                {\"x\": 2, \"tags\": [\"cat\"]},\n",
    "                                {\"x\": 2, \"tags\": [\"mouse\", \"cat\", \"dog\"]},\n",
    "                                {\"x\": 3, \"tags\": []}])\n",
    "result.inserted_ids\n",
    "[ObjectId('498f72fb88d1a0f480dddb10'), ObjectId('498f72fb88d1a0f480dddb11'),\n",
    " ObjectId('498f72fb88d1a0f480dddb12'), ObjectId('498f72fb88d1a0f480dddb13')]"
   ]
  },
  {
   "cell_type": "code",
   "execution_count": 225,
   "metadata": {},
   "outputs": [
    {
     "name": "stdout",
     "output_type": "stream",
     "text": [
      "[{'_id': 'cat', 'count': 9},\n",
      " {'_id': 'dog', 'count': 6},\n",
      " {'_id': 'mouse', 'count': 3}]\n"
     ]
    },
    {
     "data": {
      "text/plain": [
       "[{'_id': 'cat', 'count': 3},\n",
       " {'_id': 'dog', 'count': 2},\n",
       " {'_id': 'mouse', 'count': 1}]"
      ]
     },
     "execution_count": 225,
     "metadata": {},
     "output_type": "execute_result"
    }
   ],
   "source": [
    "from bson.son import SON\n",
    "pipeline = [\n",
    "      {\"$unwind\": \"$tags\"},\n",
    "      {\"$group\": {\"_id\": \"$tags\", \"count\": {\"$sum\": 1}}},\n",
    "      {\"$sort\": SON([(\"count\", -1), (\"_id\", -1)])}\n",
    "    ]\n",
    "import pprint\n",
    "pprint.pprint(list(db.things.aggregate(pipeline)))\n",
    "[{u'_id': u'cat', u'count': 3},\n",
    " {u'_id': u'dog', u'count': 2},\n",
    " {u'_id': u'mouse', u'count': 1}]"
   ]
  },
  {
   "cell_type": "code",
   "execution_count": null,
   "metadata": {
    "collapsed": true
   },
   "outputs": [],
   "source": []
  }
 ],
 "metadata": {
  "kernelspec": {
   "display_name": "Python 3",
   "language": "python",
   "name": "python3"
  },
  "language_info": {
   "codemirror_mode": {
    "name": "ipython",
    "version": 3
   },
   "file_extension": ".py",
   "mimetype": "text/x-python",
   "name": "python",
   "nbconvert_exporter": "python",
   "pygments_lexer": "ipython3",
   "version": "3.6.6"
  }
 },
 "nbformat": 4,
 "nbformat_minor": 2
}
